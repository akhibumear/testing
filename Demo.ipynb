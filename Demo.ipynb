{
 "cells": [
  {
   "cell_type": "markdown",
   "id": "75a76c6c-ca68-4f25-a90e-51946e78e97f",
   "metadata": {},
   "source": [
    "## This is a Demo \n"
   ]
  },
  {
   "cell_type": "code",
   "execution_count": 1,
   "id": "88afce25-462e-4f13-a0ff-fed015e1e3eb",
   "metadata": {},
   "outputs": [
    {
     "name": "stdout",
     "output_type": "stream",
     "text": [
      "132\n",
      "['THis is a', 45]\n"
     ]
    }
   ],
   "source": [
    "a = [\"THis is a\", 45]\n",
    "\n",
    "print(78+54)\n",
    "print(a)"
   ]
  },
  {
   "cell_type": "code",
   "execution_count": null,
   "id": "e2d4e928-20fe-465e-88db-362c36b61693",
   "metadata": {},
   "outputs": [],
   "source": []
  }
 ],
 "metadata": {
  "kernelspec": {
   "display_name": "Python 3 (ipykernel)",
   "language": "python",
   "name": "python3"
  },
  "language_info": {
   "codemirror_mode": {
    "name": "ipython",
    "version": 3
   },
   "file_extension": ".py",
   "mimetype": "text/x-python",
   "name": "python",
   "nbconvert_exporter": "python",
   "pygments_lexer": "ipython3",
   "version": "3.9.12"
  }
 },
 "nbformat": 4,
 "nbformat_minor": 5
}
